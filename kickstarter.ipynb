{
 "cells": [
  {
   "cell_type": "markdown",
   "metadata": {},
   "source": [
    "# Predicting success of Kickstarter projects\n",
    "### Eynat Grof"
   ]
  },
  {
   "cell_type": "markdown",
   "metadata": {},
   "source": [
    "Data from: <br>\n",
    "https://www.kaggle.com/kemical/kickstarter-projects/downloads/kickstarter-projects.zip/7"
   ]
  },
  {
   "cell_type": "code",
   "execution_count": 116,
   "metadata": {
    "ExecuteTime": {
     "end_time": "2019-05-06T23:29:07.982061Z",
     "start_time": "2019-05-06T23:29:07.971176Z"
    }
   },
   "outputs": [],
   "source": [
    "import os\n",
    "import numpy as np\n",
    "import pandas as pd\n",
    "from sklearn.preprocessing import LabelEncoder\n",
    "from sklearn.model_selection import train_test_split\n",
    "from sklearn.metrics.pairwise import linear_kernel\n",
    "from sklearn.linear_model import LogisticRegression\n",
    "from sklearn import svm, grid_search\n",
    "from sklearn.model_selection import GridSearchCV\n",
    "import matplotlib.pyplot as plt\n",
    "import seaborn as sns\n",
    "sns.set()"
   ]
  },
  {
   "cell_type": "markdown",
   "metadata": {},
   "source": [
    "# Load and clean the data"
   ]
  },
  {
   "cell_type": "code",
   "execution_count": 4,
   "metadata": {
    "ExecuteTime": {
     "end_time": "2019-05-06T17:11:36.358165Z",
     "start_time": "2019-05-06T17:11:34.585548Z"
    }
   },
   "outputs": [
    {
     "name": "stdout",
     "output_type": "stream",
     "text": [
      "378661\n"
     ]
    },
    {
     "data": {
      "text/html": [
       "<div>\n",
       "<style scoped>\n",
       "    .dataframe tbody tr th:only-of-type {\n",
       "        vertical-align: middle;\n",
       "    }\n",
       "\n",
       "    .dataframe tbody tr th {\n",
       "        vertical-align: top;\n",
       "    }\n",
       "\n",
       "    .dataframe thead th {\n",
       "        text-align: right;\n",
       "    }\n",
       "</style>\n",
       "<table border=\"1\" class=\"dataframe\">\n",
       "  <thead>\n",
       "    <tr style=\"text-align: right;\">\n",
       "      <th></th>\n",
       "      <th>id</th>\n",
       "      <th>name</th>\n",
       "      <th>sub_category</th>\n",
       "      <th>main_category</th>\n",
       "      <th>currency</th>\n",
       "      <th>deadline</th>\n",
       "      <th>goal</th>\n",
       "      <th>launched</th>\n",
       "      <th>pledged</th>\n",
       "      <th>state</th>\n",
       "      <th>backers</th>\n",
       "      <th>country</th>\n",
       "      <th>usd_pledged</th>\n",
       "      <th>usd_pledged_real</th>\n",
       "      <th>usd_goal_real</th>\n",
       "    </tr>\n",
       "  </thead>\n",
       "  <tbody>\n",
       "    <tr>\n",
       "      <th>0</th>\n",
       "      <td>1000002330</td>\n",
       "      <td>The Songs of Adelaide &amp; Abullah</td>\n",
       "      <td>Poetry</td>\n",
       "      <td>Publishing</td>\n",
       "      <td>GBP</td>\n",
       "      <td>2015-10-09</td>\n",
       "      <td>1000.0</td>\n",
       "      <td>2015-08-11 12:12:28</td>\n",
       "      <td>0.0</td>\n",
       "      <td>failed</td>\n",
       "      <td>0</td>\n",
       "      <td>GB</td>\n",
       "      <td>0.0</td>\n",
       "      <td>0.0</td>\n",
       "      <td>1533.95</td>\n",
       "    </tr>\n",
       "    <tr>\n",
       "      <th>1</th>\n",
       "      <td>1000003930</td>\n",
       "      <td>Greeting From Earth: ZGAC Arts Capsule For ET</td>\n",
       "      <td>Narrative Film</td>\n",
       "      <td>Film &amp; Video</td>\n",
       "      <td>USD</td>\n",
       "      <td>2017-11-01</td>\n",
       "      <td>30000.0</td>\n",
       "      <td>2017-09-02 04:43:57</td>\n",
       "      <td>2421.0</td>\n",
       "      <td>failed</td>\n",
       "      <td>15</td>\n",
       "      <td>US</td>\n",
       "      <td>100.0</td>\n",
       "      <td>2421.0</td>\n",
       "      <td>30000.00</td>\n",
       "    </tr>\n",
       "    <tr>\n",
       "      <th>2</th>\n",
       "      <td>1000004038</td>\n",
       "      <td>Where is Hank?</td>\n",
       "      <td>Narrative Film</td>\n",
       "      <td>Film &amp; Video</td>\n",
       "      <td>USD</td>\n",
       "      <td>2013-02-26</td>\n",
       "      <td>45000.0</td>\n",
       "      <td>2013-01-12 00:20:50</td>\n",
       "      <td>220.0</td>\n",
       "      <td>failed</td>\n",
       "      <td>3</td>\n",
       "      <td>US</td>\n",
       "      <td>220.0</td>\n",
       "      <td>220.0</td>\n",
       "      <td>45000.00</td>\n",
       "    </tr>\n",
       "    <tr>\n",
       "      <th>3</th>\n",
       "      <td>1000007540</td>\n",
       "      <td>ToshiCapital Rekordz Needs Help to Complete Album</td>\n",
       "      <td>Music</td>\n",
       "      <td>Music</td>\n",
       "      <td>USD</td>\n",
       "      <td>2012-04-16</td>\n",
       "      <td>5000.0</td>\n",
       "      <td>2012-03-17 03:24:11</td>\n",
       "      <td>1.0</td>\n",
       "      <td>failed</td>\n",
       "      <td>1</td>\n",
       "      <td>US</td>\n",
       "      <td>1.0</td>\n",
       "      <td>1.0</td>\n",
       "      <td>5000.00</td>\n",
       "    </tr>\n",
       "    <tr>\n",
       "      <th>4</th>\n",
       "      <td>1000011046</td>\n",
       "      <td>Community Film Project: The Art of Neighborhoo...</td>\n",
       "      <td>Film &amp; Video</td>\n",
       "      <td>Film &amp; Video</td>\n",
       "      <td>USD</td>\n",
       "      <td>2015-08-29</td>\n",
       "      <td>19500.0</td>\n",
       "      <td>2015-07-04 08:35:03</td>\n",
       "      <td>1283.0</td>\n",
       "      <td>canceled</td>\n",
       "      <td>14</td>\n",
       "      <td>US</td>\n",
       "      <td>1283.0</td>\n",
       "      <td>1283.0</td>\n",
       "      <td>19500.00</td>\n",
       "    </tr>\n",
       "  </tbody>\n",
       "</table>\n",
       "</div>"
      ],
      "text/plain": [
       "           id                                               name  \\\n",
       "0  1000002330                    The Songs of Adelaide & Abullah   \n",
       "1  1000003930      Greeting From Earth: ZGAC Arts Capsule For ET   \n",
       "2  1000004038                                     Where is Hank?   \n",
       "3  1000007540  ToshiCapital Rekordz Needs Help to Complete Album   \n",
       "4  1000011046  Community Film Project: The Art of Neighborhoo...   \n",
       "\n",
       "     sub_category main_category currency    deadline     goal  \\\n",
       "0          Poetry    Publishing      GBP  2015-10-09   1000.0   \n",
       "1  Narrative Film  Film & Video      USD  2017-11-01  30000.0   \n",
       "2  Narrative Film  Film & Video      USD  2013-02-26  45000.0   \n",
       "3           Music         Music      USD  2012-04-16   5000.0   \n",
       "4    Film & Video  Film & Video      USD  2015-08-29  19500.0   \n",
       "\n",
       "              launched  pledged     state  backers country  usd_pledged  \\\n",
       "0  2015-08-11 12:12:28      0.0    failed        0      GB          0.0   \n",
       "1  2017-09-02 04:43:57   2421.0    failed       15      US        100.0   \n",
       "2  2013-01-12 00:20:50    220.0    failed        3      US        220.0   \n",
       "3  2012-03-17 03:24:11      1.0    failed        1      US          1.0   \n",
       "4  2015-07-04 08:35:03   1283.0  canceled       14      US       1283.0   \n",
       "\n",
       "   usd_pledged_real  usd_goal_real  \n",
       "0               0.0        1533.95  \n",
       "1            2421.0       30000.00  \n",
       "2             220.0       45000.00  \n",
       "3               1.0        5000.00  \n",
       "4            1283.0       19500.00  "
      ]
     },
     "execution_count": 4,
     "metadata": {},
     "output_type": "execute_result"
    }
   ],
   "source": [
    "col_names = ['id', 'name', 'sub_category', 'main_category', 'currency',\n",
    "             'deadline', 'goal', 'launched', 'pledged', 'state', 'backers',\n",
    "             'country', 'usd_pledged', 'usd_pledged_real', 'usd_goal_real']\n",
    "data = pd.read_csv('ks_projects_201801.csv', names = col_names, low_memory=False, skiprows=[0])\n",
    "print(len(data))\n",
    "data.head()"
   ]
  },
  {
   "cell_type": "markdown",
   "metadata": {},
   "source": [
    "### Drop NAs"
   ]
  },
  {
   "cell_type": "code",
   "execution_count": 5,
   "metadata": {
    "ExecuteTime": {
     "end_time": "2019-05-06T17:11:36.594970Z",
     "start_time": "2019-05-06T17:11:36.360755Z"
    }
   },
   "outputs": [
    {
     "data": {
      "text/plain": [
       "id                     0\n",
       "name                   4\n",
       "sub_category           0\n",
       "main_category          0\n",
       "currency               0\n",
       "deadline               0\n",
       "goal                   0\n",
       "launched               0\n",
       "pledged                0\n",
       "state                  0\n",
       "backers                0\n",
       "country                0\n",
       "usd_pledged         3797\n",
       "usd_pledged_real       0\n",
       "usd_goal_real          0\n",
       "dtype: int64"
      ]
     },
     "execution_count": 5,
     "metadata": {},
     "output_type": "execute_result"
    }
   ],
   "source": [
    "# is.null is robust enough even with mixed data types\n",
    "data.isnull().sum()"
   ]
  },
  {
   "cell_type": "code",
   "execution_count": 6,
   "metadata": {
    "ExecuteTime": {
     "end_time": "2019-05-06T17:11:36.881046Z",
     "start_time": "2019-05-06T17:11:36.597642Z"
    }
   },
   "outputs": [
    {
     "name": "stdout",
     "output_type": "stream",
     "text": [
      "BEFORE DROPPING NA'S:\n",
      "There are 378661 kickstarter projects in the dataset.\n",
      "AFTER DROPPING NA'S:\n",
      "There are 374860 kickstarter projects in the dataset. 3801 projects were dropped.\n"
     ]
    }
   ],
   "source": [
    "observations = len(data)\n",
    "print('BEFORE DROPPING NA\\'S:')\n",
    "print('There are', observations, 'kickstarter projects in the dataset.')\n",
    "data = data.dropna()\n",
    "print('AFTER DROPPING NA\\'S:')\n",
    "print('There are', len(data), 'kickstarter projects in the dataset.', observations-len(data), 'projects were dropped.')"
   ]
  },
  {
   "cell_type": "markdown",
   "metadata": {},
   "source": [
    "### Handle column data types"
   ]
  },
  {
   "cell_type": "code",
   "execution_count": 7,
   "metadata": {
    "ExecuteTime": {
     "end_time": "2019-05-06T17:11:37.488949Z",
     "start_time": "2019-05-06T17:11:36.883419Z"
    }
   },
   "outputs": [],
   "source": [
    "# make sure each column is the right type, so it is easier to work with later\n",
    "data['name'] = data.name.astype(str)\n",
    "data['sub_category'] = data.sub_category.astype(str)\n",
    "data['main_category'] = data.main_category.astype(str)\n",
    "data['currency'] = data.currency.astype(str)\n",
    "data['deadline'] = data.deadline.astype('datetime64[ns]')\n",
    "data['launched'] = data.launched.astype('datetime64[ns]')\n",
    "data['state'] = data.state.astype(str)\n",
    "data['country'] = data.country.astype(str)\n"
   ]
  },
  {
   "cell_type": "code",
   "execution_count": 8,
   "metadata": {
    "ExecuteTime": {
     "end_time": "2019-05-06T17:11:37.497814Z",
     "start_time": "2019-05-06T17:11:37.491396Z"
    }
   },
   "outputs": [
    {
     "data": {
      "text/plain": [
       "id                           int64\n",
       "name                        object\n",
       "sub_category                object\n",
       "main_category               object\n",
       "currency                    object\n",
       "deadline            datetime64[ns]\n",
       "goal                       float64\n",
       "launched            datetime64[ns]\n",
       "pledged                    float64\n",
       "state                       object\n",
       "backers                      int64\n",
       "country                     object\n",
       "usd_pledged                float64\n",
       "usd_pledged_real           float64\n",
       "usd_goal_real              float64\n",
       "dtype: object"
      ]
     },
     "execution_count": 8,
     "metadata": {},
     "output_type": "execute_result"
    }
   ],
   "source": [
    "data.dtypes"
   ]
  },
  {
   "cell_type": "markdown",
   "metadata": {},
   "source": [
    "# Feature engineering"
   ]
  },
  {
   "cell_type": "markdown",
   "metadata": {},
   "source": [
    "### Add campaign duration feature"
   ]
  },
  {
   "cell_type": "code",
   "execution_count": 16,
   "metadata": {
    "ExecuteTime": {
     "end_time": "2019-05-06T13:36:32.940204Z",
     "start_time": "2019-05-06T12:21:12.950057Z"
    }
   },
   "outputs": [
    {
     "name": "stdout",
     "output_type": "stream",
     "text": [
      "374859 out of 374860\r"
     ]
    }
   ],
   "source": [
    "# calculating duration by looking at the date a project launched, and deadline\n",
    "data['duration'] = data.deadline - data.launched\n",
    "for i in range(len(data)):\n",
    "    value = data.iloc[i, 15]\n",
    "    data.iloc[i, 15] = value.days\n",
    "    print('%d out of %d' %(i,len(data)), end = '\\r')"
   ]
  },
  {
   "cell_type": "markdown",
   "metadata": {},
   "source": [
    "### Add day of the week, and month a project launched in feature"
   ]
  },
  {
   "cell_type": "code",
   "execution_count": 17,
   "metadata": {
    "ExecuteTime": {
     "end_time": "2019-05-06T14:40:47.358625Z",
     "start_time": "2019-05-06T14:40:47.267381Z"
    }
   },
   "outputs": [],
   "source": [
    "# from the date object, extract the correct day of week and month\n",
    "data['day_of_week'] = data['launched'].dt.dayofweek\n",
    "data['month'] = data['launched'].dt.month"
   ]
  },
  {
   "cell_type": "markdown",
   "metadata": {},
   "source": [
    "### Create proper label variable\n",
    "**so it can be used with the classifier**"
   ]
  },
  {
   "cell_type": "code",
   "execution_count": 18,
   "metadata": {
    "ExecuteTime": {
     "end_time": "2019-05-06T14:40:48.496324Z",
     "start_time": "2019-05-06T14:40:48.420436Z"
    }
   },
   "outputs": [
    {
     "data": {
      "text/plain": [
       "failed        197611\n",
       "successful    133851\n",
       "canceled       38757\n",
       "live            2798\n",
       "suspended       1843\n",
       "Name: state, dtype: int64"
      ]
     },
     "execution_count": 18,
     "metadata": {},
     "output_type": "execute_result"
    }
   ],
   "source": [
    "data['state'].value_counts()"
   ]
  },
  {
   "cell_type": "code",
   "execution_count": 19,
   "metadata": {
    "ExecuteTime": {
     "end_time": "2019-05-06T14:40:49.451882Z",
     "start_time": "2019-05-06T14:40:48.996145Z"
    }
   },
   "outputs": [],
   "source": [
    "# drop all unfinsished projects\n",
    "data.drop(data.loc[data['state']== 'live'].index, inplace=True)\n",
    "data.drop(data.loc[data['state']== 'suspended'].index, inplace=True)\n",
    "data.drop(data.loc[data['state']== 'canceled'].index, inplace=True)"
   ]
  },
  {
   "cell_type": "code",
   "execution_count": 20,
   "metadata": {
    "ExecuteTime": {
     "end_time": "2019-05-06T14:40:49.580254Z",
     "start_time": "2019-05-06T14:40:49.524557Z"
    }
   },
   "outputs": [
    {
     "name": "stdout",
     "output_type": "stream",
     "text": [
      "number of projects: 331462\n"
     ]
    },
    {
     "data": {
      "text/plain": [
       "failed        197611\n",
       "successful    133851\n",
       "Name: state, dtype: int64"
      ]
     },
     "execution_count": 20,
     "metadata": {},
     "output_type": "execute_result"
    }
   ],
   "source": [
    "print('number of projects:', len(data))\n",
    "data['state'].value_counts()"
   ]
  },
  {
   "cell_type": "code",
   "execution_count": 113,
   "metadata": {
    "ExecuteTime": {
     "end_time": "2019-05-06T23:12:42.819613Z",
     "start_time": "2019-05-06T23:12:42.500353Z"
    }
   },
   "outputs": [
    {
     "data": {
      "text/plain": [
       "<matplotlib.axes._subplots.AxesSubplot at 0x134e627b8>"
      ]
     },
     "execution_count": 113,
     "metadata": {},
     "output_type": "execute_result"
    },
    {
     "data": {
      "image/png": "[encoded data removed]",
      "text/plain": [
       "<matplotlib.figure.Figure at 0x13563d8d0>"
      ]
     },
     "metadata": {
      "needs_background": "light"
     },
     "output_type": "display_data"
    }
   ],
   "source": [
    "# visualize the balance between classes\n",
    "data['state'].value_counts().plot(kind='bar', figsize = (10,7))"
   ]
  },
  {
   "cell_type": "code",
   "execution_count": 21,
   "metadata": {
    "ExecuteTime": {
     "end_time": "2019-05-06T14:40:50.421222Z",
     "start_time": "2019-05-06T14:40:50.390525Z"
    }
   },
   "outputs": [
    {
     "data": {
      "text/html": [
       "<div>\n",
       "<style scoped>\n",
       "    .dataframe tbody tr th:only-of-type {\n",
       "        vertical-align: middle;\n",
       "    }\n",
       "\n",
       "    .dataframe tbody tr th {\n",
       "        vertical-align: top;\n",
       "    }\n",
       "\n",
       "    .dataframe thead th {\n",
       "        text-align: right;\n",
       "    }\n",
       "</style>\n",
       "<table border=\"1\" class=\"dataframe\">\n",
       "  <thead>\n",
       "    <tr style=\"text-align: right;\">\n",
       "      <th></th>\n",
       "      <th>failed</th>\n",
       "      <th>successful</th>\n",
       "    </tr>\n",
       "  </thead>\n",
       "  <tbody>\n",
       "    <tr>\n",
       "      <th>0</th>\n",
       "      <td>1</td>\n",
       "      <td>0</td>\n",
       "    </tr>\n",
       "    <tr>\n",
       "      <th>1</th>\n",
       "      <td>1</td>\n",
       "      <td>0</td>\n",
       "    </tr>\n",
       "    <tr>\n",
       "      <th>2</th>\n",
       "      <td>1</td>\n",
       "      <td>0</td>\n",
       "    </tr>\n",
       "    <tr>\n",
       "      <th>3</th>\n",
       "      <td>1</td>\n",
       "      <td>0</td>\n",
       "    </tr>\n",
       "    <tr>\n",
       "      <th>5</th>\n",
       "      <td>0</td>\n",
       "      <td>1</td>\n",
       "    </tr>\n",
       "  </tbody>\n",
       "</table>\n",
       "</div>"
      ],
      "text/plain": [
       "   failed  successful\n",
       "0       1           0\n",
       "1       1           0\n",
       "2       1           0\n",
       "3       1           0\n",
       "5       0           1"
      ]
     },
     "execution_count": 21,
     "metadata": {},
     "output_type": "execute_result"
    }
   ],
   "source": [
    "# convert label to binary (as most ML classifiers expact)\n",
    "dummies = pd.get_dummies(data['state'])\n",
    "dummies.head()"
   ]
  },
  {
   "cell_type": "code",
   "execution_count": 22,
   "metadata": {
    "ExecuteTime": {
     "end_time": "2019-05-06T14:40:51.858055Z",
     "start_time": "2019-05-06T14:40:51.803686Z"
    }
   },
   "outputs": [],
   "source": [
    "data = pd.concat([data, dummies], axis=1)"
   ]
  },
  {
   "cell_type": "code",
   "execution_count": 23,
   "metadata": {
    "ExecuteTime": {
     "end_time": "2019-05-06T14:41:02.201124Z",
     "start_time": "2019-05-06T14:40:53.411480Z"
    }
   },
   "outputs": [],
   "source": [
    "data.to_csv('out.csv')"
   ]
  },
  {
   "cell_type": "markdown",
   "metadata": {},
   "source": [
    "### Encode all feature/label variables and combine into one data frame"
   ]
  },
  {
   "cell_type": "code",
   "execution_count": 10,
   "metadata": {
    "ExecuteTime": {
     "end_time": "2019-05-06T17:12:23.510032Z",
     "start_time": "2019-05-06T17:12:23.506248Z"
    }
   },
   "outputs": [],
   "source": [
    "clf_data = pd.DataFrame(data['id'].values, columns = ['id'])"
   ]
  },
  {
   "cell_type": "code",
   "execution_count": 11,
   "metadata": {
    "ExecuteTime": {
     "end_time": "2019-05-06T17:12:25.238437Z",
     "start_time": "2019-05-06T17:12:24.122919Z"
    }
   },
   "outputs": [],
   "source": [
    "# create a dataset that can be used with the classifier, where all variables\n",
    "# are encoded (so no strings or date onjects)\n",
    "lb_make = LabelEncoder()\n",
    "clf_data['main_category'] = lb_make.fit_transform(data[\"main_category\"])\n",
    "clf_data['sub_category'] = lb_make.fit_transform(data[\"sub_category\"])\n",
    "clf_data['currency'] = lb_make.fit_transform(data[\"currency\"])\n",
    "clf_data['country'] = lb_make.fit_transform(data[\"main_category\"])\n",
    "\n",
    "clf_data['duration'] = data['duration']\n",
    "clf_data['day_of_week'] = data['day_of_week']\n",
    "clf_data['month'] = data['month']\n",
    "clf_data['backers'] = data['backers']\n",
    "clf_data['usd_goal_real'] = data['usd_goal_real']\n",
    "clf_data['usd_pledged_real'] = data['usd_pledged_real']\n",
    "clf_data['label'] = data['successful']"
   ]
  },
  {
   "cell_type": "code",
   "execution_count": 12,
   "metadata": {
    "ExecuteTime": {
     "end_time": "2019-05-06T17:12:26.579878Z",
     "start_time": "2019-05-06T17:12:26.562529Z"
    }
   },
   "outputs": [
    {
     "data": {
      "text/html": [
       "<div>\n",
       "<style scoped>\n",
       "    .dataframe tbody tr th:only-of-type {\n",
       "        vertical-align: middle;\n",
       "    }\n",
       "\n",
       "    .dataframe tbody tr th {\n",
       "        vertical-align: top;\n",
       "    }\n",
       "\n",
       "    .dataframe thead th {\n",
       "        text-align: right;\n",
       "    }\n",
       "</style>\n",
       "<table border=\"1\" class=\"dataframe\">\n",
       "  <thead>\n",
       "    <tr style=\"text-align: right;\">\n",
       "      <th></th>\n",
       "      <th>id</th>\n",
       "      <th>main_category</th>\n",
       "      <th>sub_category</th>\n",
       "      <th>currency</th>\n",
       "      <th>country</th>\n",
       "      <th>duration</th>\n",
       "      <th>day_of_week</th>\n",
       "      <th>month</th>\n",
       "      <th>backers</th>\n",
       "      <th>usd_goal_real</th>\n",
       "      <th>usd_pledged_real</th>\n",
       "      <th>label</th>\n",
       "    </tr>\n",
       "  </thead>\n",
       "  <tbody>\n",
       "    <tr>\n",
       "      <th>0</th>\n",
       "      <td>1000002330</td>\n",
       "      <td>12</td>\n",
       "      <td>108</td>\n",
       "      <td>5</td>\n",
       "      <td>12</td>\n",
       "      <td>58</td>\n",
       "      <td>1</td>\n",
       "      <td>8</td>\n",
       "      <td>0</td>\n",
       "      <td>1533.95</td>\n",
       "      <td>0.0</td>\n",
       "      <td>0</td>\n",
       "    </tr>\n",
       "    <tr>\n",
       "      <th>1</th>\n",
       "      <td>1000003930</td>\n",
       "      <td>6</td>\n",
       "      <td>93</td>\n",
       "      <td>13</td>\n",
       "      <td>6</td>\n",
       "      <td>59</td>\n",
       "      <td>5</td>\n",
       "      <td>9</td>\n",
       "      <td>15</td>\n",
       "      <td>30000.00</td>\n",
       "      <td>2421.0</td>\n",
       "      <td>0</td>\n",
       "    </tr>\n",
       "    <tr>\n",
       "      <th>2</th>\n",
       "      <td>1000004038</td>\n",
       "      <td>6</td>\n",
       "      <td>93</td>\n",
       "      <td>13</td>\n",
       "      <td>6</td>\n",
       "      <td>44</td>\n",
       "      <td>5</td>\n",
       "      <td>1</td>\n",
       "      <td>3</td>\n",
       "      <td>45000.00</td>\n",
       "      <td>220.0</td>\n",
       "      <td>0</td>\n",
       "    </tr>\n",
       "    <tr>\n",
       "      <th>3</th>\n",
       "      <td>1000007540</td>\n",
       "      <td>10</td>\n",
       "      <td>90</td>\n",
       "      <td>13</td>\n",
       "      <td>10</td>\n",
       "      <td>29</td>\n",
       "      <td>5</td>\n",
       "      <td>3</td>\n",
       "      <td>1</td>\n",
       "      <td>5000.00</td>\n",
       "      <td>1.0</td>\n",
       "      <td>0</td>\n",
       "    </tr>\n",
       "    <tr>\n",
       "      <th>4</th>\n",
       "      <td>1000014025</td>\n",
       "      <td>7</td>\n",
       "      <td>123</td>\n",
       "      <td>13</td>\n",
       "      <td>7</td>\n",
       "      <td>34</td>\n",
       "      <td>4</td>\n",
       "      <td>2</td>\n",
       "      <td>224</td>\n",
       "      <td>50000.00</td>\n",
       "      <td>52375.0</td>\n",
       "      <td>1</td>\n",
       "    </tr>\n",
       "  </tbody>\n",
       "</table>\n",
       "</div>"
      ],
      "text/plain": [
       "           id  main_category  sub_category  currency  country  duration  \\\n",
       "0  1000002330             12           108         5       12        58   \n",
       "1  1000003930              6            93        13        6        59   \n",
       "2  1000004038              6            93        13        6        44   \n",
       "3  1000007540             10            90        13       10        29   \n",
       "4  1000014025              7           123        13        7        34   \n",
       "\n",
       "   day_of_week  month  backers  usd_goal_real  usd_pledged_real  label  \n",
       "0            1      8        0        1533.95               0.0      0  \n",
       "1            5      9       15       30000.00            2421.0      0  \n",
       "2            5      1        3       45000.00             220.0      0  \n",
       "3            5      3        1        5000.00               1.0      0  \n",
       "4            4      2      224       50000.00           52375.0      1  "
      ]
     },
     "execution_count": 12,
     "metadata": {},
     "output_type": "execute_result"
    }
   ],
   "source": [
    "clf_data.head()"
   ]
  },
  {
   "cell_type": "markdown",
   "metadata": {
    "ExecuteTime": {
     "end_time": "2019-05-06T03:29:13.732141Z",
     "start_time": "2019-05-06T03:29:13.699001Z"
    }
   },
   "source": [
    "# Split to test and train set"
   ]
  },
  {
   "cell_type": "code",
   "execution_count": 15,
   "metadata": {
    "ExecuteTime": {
     "end_time": "2019-05-06T17:12:33.358767Z",
     "start_time": "2019-05-06T17:12:33.224587Z"
    }
   },
   "outputs": [
    {
     "name": "stdout",
     "output_type": "stream",
     "text": [
      "Projects in training set: 265285\n",
      "Projects in test set: 66177\n",
      "X train shape: (265285, 11) <class 'pandas.core.frame.DataFrame'>\n",
      "y_train shape: (265285,) <class 'pandas.core.series.Series'>\n",
      "X_test shape: (66177, 11) <class 'pandas.core.frame.DataFrame'>\n",
      "y_test shape: (66177,) <class 'pandas.core.series.Series'>\n"
     ]
    }
   ],
   "source": [
    "# split to test and train test\n",
    "split = np.random.rand(len(clf_data)) < 0.8\n",
    "\n",
    "train = clf_data[split]\n",
    "test = clf_data[~split]\n",
    "print('Projects in training set:', len(train))\n",
    "print('Projects in test set:', len(test))\n",
    "\n",
    "X_train = train.drop(['label'], axis=1)\n",
    "y_train = train.loc[:,'label']\n",
    "X_test = test.drop(['label'], axis=1)\n",
    "y_test = test.loc[:,'label']\n",
    "print('X train shape:', X_train.shape, type(X_train))\n",
    "print('y_train shape:', y_train.shape, type(y_train))\n",
    "print('X_test shape:', X_test.shape, type(X_test))\n",
    "print('y_test shape:', y_test.shape, type(y_test))\n",
    "\n",
    "#convert to arrays\n",
    "X_train = pd.DataFrame.as_matrix(X_train)\n",
    "X_test = pd.DataFrame.as_matrix(X_test)"
   ]
  },
  {
   "cell_type": "markdown",
   "metadata": {},
   "source": [
    "# Train logistic regression"
   ]
  },
  {
   "cell_type": "code",
   "execution_count": 52,
   "metadata": {
    "ExecuteTime": {
     "end_time": "2019-05-06T19:48:59.749731Z",
     "start_time": "2019-05-06T19:48:58.677796Z"
    }
   },
   "outputs": [
    {
     "data": {
      "text/plain": [
       "LogisticRegression(C=1.0, class_weight=None, dual=False, fit_intercept=True,\n",
       "          intercept_scaling=1, max_iter=100, multi_class='ovr', n_jobs=1,\n",
       "          penalty='l2', random_state=None, solver='liblinear', tol=0.0001,\n",
       "          verbose=0, warm_start=False)"
      ]
     },
     "execution_count": 52,
     "metadata": {},
     "output_type": "execute_result"
    }
   ],
   "source": [
    "# create model object and train and train set\n",
    "logreg = LogisticRegression()\n",
    "logreg.fit(X_train, y_train)"
   ]
  },
  {
   "cell_type": "code",
   "execution_count": 114,
   "metadata": {
    "ExecuteTime": {
     "end_time": "2019-05-06T23:18:23.858862Z",
     "start_time": "2019-05-06T23:18:23.735129Z"
    }
   },
   "outputs": [
    {
     "name": "stdout",
     "output_type": "stream",
     "text": [
      "ACC scroe: 0.6488054762228569\n",
      "[[39473     3]\n",
      " [23238  3463]]\n"
     ]
    }
   ],
   "source": [
    "# predict and present results\n",
    "score = logreg.score(X_test, y_test)\n",
    "predictions = logreg.predict(X_test)\n",
    "matrix = metrics.confusion_matrix(y_test, predictions)\n",
    "print('ACC scroe:', score)\n",
    "print(matrix)"
   ]
  },
  {
   "cell_type": "markdown",
   "metadata": {},
   "source": [
    "# Improve by doing grid search"
   ]
  },
  {
   "cell_type": "code",
   "execution_count": 100,
   "metadata": {
    "ExecuteTime": {
     "end_time": "2019-05-06T22:27:38.260954Z",
     "start_time": "2019-05-06T22:27:38.248129Z"
    }
   },
   "outputs": [],
   "source": [
    "# perform grid search to optimize parameters\n",
    "def logreg_param_selection(X, y, nfolds):\n",
    "    Cs = [0.0001, 0.001, 0.01, 1, 10]\n",
    "    penalty = ['l1', 'l2']\n",
    "    param_grid = {'C': Cs, 'penalty': penalty}\n",
    "    grid_search = GridSearchCV(LogisticRegression(), param_grid, cv=nfolds,\n",
    "                              verbose = 10, n_jobs = -1)\n",
    "    grid_search.fit(X, y)\n",
    "    grid_search.best_params_\n",
    "    return grid_search.best_params_"
   ]
  },
  {
   "cell_type": "code",
   "execution_count": 101,
   "metadata": {
    "ExecuteTime": {
     "end_time": "2019-05-06T22:43:34.194292Z",
     "start_time": "2019-05-06T22:27:39.113324Z"
    },
    "scrolled": true
   },
   "outputs": [
    {
     "name": "stdout",
     "output_type": "stream",
     "text": [
      "Fitting 3 folds for each of 10 candidates, totalling 30 fits\n",
      "[CV] C=0.0001, penalty=l1 ............................................\n",
      "[CV] C=0.0001, penalty=l1 ............................................\n",
      "[CV] C=0.0001, penalty=l1 ............................................\n",
      "[CV] C=0.0001, penalty=l2 ............................................\n",
      "[CV] C=0.0001, penalty=l2 ............................................\n",
      "[CV] C=0.0001, penalty=l2 ............................................\n",
      "[CV] C=0.001, penalty=l1 .............................................\n",
      "[CV] C=0.001, penalty=l1 .............................................\n",
      "[CV] .... C=0.0001, penalty=l2, score=0.632824073550532, total=   2.3s\n",
      "[CV] C=0.001, penalty=l1 .............................................\n",
      "[CV] .... C=0.0001, penalty=l2, score=0.618962534067649, total=   2.2s\n",
      "[CV] ... C=0.0001, penalty=l2, score=0.6521503126802294, total=   2.3s\n",
      "[CV] C=0.001, penalty=l2 .............................................\n",
      "[CV] C=0.001, penalty=l2 .............................................\n"
     ]
    },
    {
     "name": "stderr",
     "output_type": "stream",
     "text": [
      "[Parallel(n_jobs=-1)]: Done   2 tasks      | elapsed:    2.8s\n"
     ]
    },
    {
     "name": "stdout",
     "output_type": "stream",
     "text": [
      "[CV] ..... C=0.001, penalty=l2, score=0.632824073550532, total=   1.8s\n",
      "[CV] .... C=0.001, penalty=l2, score=0.6521503126802294, total=   1.7s\n",
      "[CV] C=0.001, penalty=l2 .............................................\n",
      "[CV] C=0.01, penalty=l1 ..............................................\n",
      "[CV] ..... C=0.001, penalty=l2, score=0.618962534067649, total=   1.6s\n",
      "[CV] C=0.01, penalty=l1 ..............................................\n",
      "[CV] ... C=0.0001, penalty=l1, score=0.7073179006412069, total=  30.3s\n",
      "[CV] C=0.01, penalty=l1 ..............................................\n",
      "[CV] ... C=0.0001, penalty=l1, score=0.7102873491727827, total=  31.0s\n",
      "[CV] C=0.01, penalty=l2 ..............................................\n",
      "[CV] ...... C=0.01, penalty=l2, score=0.632824073550532, total=   1.8s\n",
      "[CV] C=0.01, penalty=l2 ..............................................\n"
     ]
    },
    {
     "name": "stderr",
     "output_type": "stream",
     "text": [
      "[Parallel(n_jobs=-1)]: Done   9 tasks      | elapsed:   33.3s\n"
     ]
    },
    {
     "name": "stdout",
     "output_type": "stream",
     "text": [
      "[CV] .... C=0.001, penalty=l1, score=0.6955410555360798, total=  33.0s\n",
      "[CV] C=0.01, penalty=l2 ..............................................\n",
      "[CV] .... C=0.001, penalty=l1, score=0.7143810288480024, total=  33.3s\n",
      "[CV] C=1, penalty=l1 .................................................\n",
      "[CV] ... C=0.0001, penalty=l1, score=0.6994311820782775, total=  34.3s\n",
      "[CV] C=1, penalty=l1 .................................................\n",
      "[CV] ..... C=0.01, penalty=l2, score=0.6521503126802294, total=   2.0s\n",
      "[CV] C=1, penalty=l1 .................................................\n",
      "[CV] ...... C=0.01, penalty=l2, score=0.618962534067649, total=   2.0s\n",
      "[CV] C=1, penalty=l2 .................................................\n",
      "[CV] ......... C=1, penalty=l2, score=0.632824073550532, total=   2.0s\n",
      "[CV] C=1, penalty=l2 .................................................\n",
      "[CV] ........ C=1, penalty=l2, score=0.6521503126802294, total=   1.7s\n",
      "[CV] C=1, penalty=l2 .................................................\n",
      "[CV] ......... C=1, penalty=l2, score=0.618962534067649, total=   1.8s\n",
      "[CV] C=10, penalty=l1 ................................................\n",
      "[CV] ...... C=0.01, penalty=l1, score=0.691752705560393, total=  39.4s\n",
      "[CV] C=10, penalty=l1 ................................................\n",
      "[CV] ...... C=0.01, penalty=l1, score=0.732395481120447, total=  38.2s\n",
      "[CV] C=10, penalty=l1 ................................................\n"
     ]
    },
    {
     "name": "stderr",
     "output_type": "stream",
     "text": [
      "[Parallel(n_jobs=-1)]: Done  19 out of  30 | elapsed:   44.8s remaining:   25.9s\n"
     ]
    },
    {
     "name": "stdout",
     "output_type": "stream",
     "text": [
      "[CV] .... C=0.001, penalty=l1, score=0.6987006231128502, total= 1.0min\n",
      "[CV] C=10, penalty=l2 ................................................\n",
      "[CV] ........ C=10, penalty=l2, score=0.632824073550532, total=   2.7s\n",
      "[CV] C=10, penalty=l2 ................................................\n",
      "[CV] ....... C=10, penalty=l2, score=0.6521503126802294, total=   2.4s\n",
      "[CV] C=10, penalty=l2 ................................................\n",
      "[CV] ........ C=1, penalty=l1, score=0.7243438238586889, total=  36.0s\n"
     ]
    },
    {
     "name": "stderr",
     "output_type": "stream",
     "text": [
      "[Parallel(n_jobs=-1)]: Done  23 out of  30 | elapsed:  1.2min remaining:   21.6s\n"
     ]
    },
    {
     "name": "stdout",
     "output_type": "stream",
     "text": [
      "[CV] ........ C=10, penalty=l2, score=0.618962534067649, total=   2.2s\n",
      "[CV] ........ C=1, penalty=l1, score=0.6983726689811935, total=  39.8s\n",
      "[CV] ...... C=0.01, penalty=l1, score=0.697671525665238, total=  51.8s\n",
      "[CV] ........ C=1, penalty=l1, score=0.7004715647581675, total=  49.3s\n"
     ]
    },
    {
     "name": "stderr",
     "output_type": "stream",
     "text": [
      "[Parallel(n_jobs=-1)]: Done  27 out of  30 | elapsed:  1.4min remaining:    9.3s\n"
     ]
    },
    {
     "name": "stdout",
     "output_type": "stream",
     "text": [
      "[CV] ....... C=10, penalty=l1, score=0.6943536622601183, total= 7.8min\n",
      "[CV] ....... C=10, penalty=l1, score=0.7323276300761062, total= 7.8min\n",
      "[CV] ....... C=10, penalty=l1, score=0.6991077385866308, total= 7.8min\n"
     ]
    },
    {
     "name": "stderr",
     "output_type": "stream",
     "text": [
      "[Parallel(n_jobs=-1)]: Done  30 out of  30 | elapsed:  8.6min finished\n"
     ]
    },
    {
     "data": {
      "text/plain": [
       "{'C': 10, 'penalty': 'l1'}"
      ]
     },
     "execution_count": 101,
     "metadata": {},
     "output_type": "execute_result"
    }
   ],
   "source": [
    "logreg_param_selection(X_train, y_train, 3)"
   ]
  },
  {
   "cell_type": "code",
   "execution_count": 103,
   "metadata": {
    "ExecuteTime": {
     "end_time": "2019-05-06T22:51:13.943449Z",
     "start_time": "2019-05-06T22:44:15.019184Z"
    }
   },
   "outputs": [
    {
     "data": {
      "text/plain": [
       "LogisticRegression(C=10, class_weight=None, dual=False, fit_intercept=True,\n",
       "          intercept_scaling=1, max_iter=100, multi_class='ovr', n_jobs=1,\n",
       "          penalty='l1', random_state=None, solver='liblinear', tol=0.0001,\n",
       "          verbose=0, warm_start=False)"
      ]
     },
     "execution_count": 103,
     "metadata": {},
     "output_type": "execute_result"
    }
   ],
   "source": [
    "# create a new model object and train with new parameters\n",
    "logreg_tuned = LogisticRegression(C = 10, penalty = 'l1')\n",
    "logreg_tuned.fit(X_train, y_train)"
   ]
  },
  {
   "cell_type": "code",
   "execution_count": 107,
   "metadata": {
    "ExecuteTime": {
     "end_time": "2019-05-06T23:04:29.838858Z",
     "start_time": "2019-05-06T23:04:29.685982Z"
    }
   },
   "outputs": [
    {
     "name": "stdout",
     "output_type": "stream",
     "text": [
      "ACC score: 0.6932015654985871\n",
      "             precision    recall  f1-score   support\n",
      "\n",
      "          0       0.66      0.99      0.79     39476\n",
      "          1       0.94      0.26      0.40     26701\n",
      "\n",
      "avg / total       0.77      0.69      0.64     66177\n",
      "\n",
      "[[39035   441]\n",
      " [19862  6839]]\n"
     ]
    }
   ],
   "source": [
    "# predict and present results\n",
    "score_tuned = logreg_tuned.score(X_test, y_test)\n",
    "\n",
    "predictions_tuned = logreg_tuned.predict(X_test)\n",
    "matrix = metrics.confusion_matrix(y_test, predictions_tuned)\n",
    "report = metrics.classification_report(y_test, predictions_tuned)\n",
    "\n",
    "print('ACC score:', score_tuned)\n",
    "print(report)\n",
    "print(matrix)"
   ]
  }
 ],
 "metadata": {
  "kernelspec": {
   "display_name": "Python 3",
   "language": "python",
   "name": "python3"
  },
  "language_info": {
   "codemirror_mode": {
    "name": "ipython",
    "version": 3
   },
   "file_extension": ".py",
   "mimetype": "text/x-python",
   "name": "python",
   "nbconvert_exporter": "python",
   "pygments_lexer": "ipython3",
   "version": "3.7.3"
  },
  "toc": {
   "base_numbering": 1,
   "nav_menu": {},
   "number_sections": false,
   "sideBar": true,
   "skip_h1_title": false,
   "title_cell": "Table of Contents",
   "title_sidebar": "Contents",
   "toc_cell": false,
   "toc_position": {
    "height": "calc(100% - 180px)",
    "left": "10px",
    "top": "150px",
    "width": "206px"
   },
   "toc_section_display": true,
   "toc_window_display": true
  },
  "varInspector": {
   "cols": {
    "lenName": 16,
    "lenType": 16,
    "lenVar": 40
   },
   "kernels_config": {
    "python": {
     "delete_cmd_postfix": "",
     "delete_cmd_prefix": "del ",
     "library": "var_list.py",
     "varRefreshCmd": "print(var_dic_list())"
    },
    "r": {
     "delete_cmd_postfix": ") ",
     "delete_cmd_prefix": "rm(",
     "library": "var_list.r",
     "varRefreshCmd": "cat(var_dic_list()) "
    }
   },
   "types_to_exclude": [
    "module",
    "function",
    "builtin_function_or_method",
    "instance",
    "_Feature"
   ],
   "window_display": false
  }
 },
 "nbformat": 4,
 "nbformat_minor": 2
}
